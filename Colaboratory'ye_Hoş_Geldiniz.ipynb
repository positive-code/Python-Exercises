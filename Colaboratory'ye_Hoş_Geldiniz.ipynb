{
  "cells": [
    {
      "cell_type": "markdown",
      "metadata": {
        "id": "view-in-github",
        "colab_type": "text"
      },
      "source": [
        "<a href=\"https://colab.research.google.com/github/positive-code/Python-Exercises/blob/main/Colaboratory'ye_Ho%C5%9F_Geldiniz.ipynb\" target=\"_parent\"><img src=\"https://colab.research.google.com/assets/colab-badge.svg\" alt=\"Open In Colab\"/></a>"
      ]
    },
    {
      "cell_type": "code",
      "source": [
        "l1 = [3, 6, 9, 12, 15, 18, 21]\n",
        "l2 = [4, 8, 12, 16, 20, 24, 28]\n",
        "res = list()\n",
        "\n",
        "odd_elements = l1[1::2]\n",
        "print(odd_elements)\n",
        "\n",
        "even_elements = l2[0::2]\n",
        "print(even_elements)\n",
        "\n",
        "res.extend(odd_elements)\n",
        "res.extend(even_elements)\n",
        "print(res)\n"
      ],
      "metadata": {
        "colab": {
          "base_uri": "https://localhost:8080/"
        },
        "id": "m26eYfR8P4He",
        "outputId": "e7f30570-fb7d-4d23-b5b3-ae57e8493d4e"
      },
      "execution_count": 3,
      "outputs": [
        {
          "output_type": "stream",
          "name": "stdout",
          "text": [
            "[6, 12, 18]\n",
            "[4, 12, 20, 28]\n",
            "[6, 12, 18, 4, 12, 20, 28]\n"
          ]
        }
      ]
    },
    {
      "cell_type": "code",
      "source": [
        "l1 = [3, 6, 9, 12, 15, 18, 21]\n",
        "l2 = [4, 8, 12, 16, 20, 24, 28]\n",
        "\n",
        "odd=l1[1::2]\n",
        "even=l2[0::2]\n",
        "\n",
        "res=odd+even\n",
        "\n",
        "print(res)\n"
      ],
      "metadata": {
        "colab": {
          "base_uri": "https://localhost:8080/"
        },
        "id": "of-kqIFmP8Y6",
        "outputId": "7ba1d374-89b1-4fda-9e70-5df0d7701857"
      },
      "execution_count": 4,
      "outputs": [
        {
          "output_type": "stream",
          "name": "stdout",
          "text": [
            "[6, 12, 18, 4, 12, 20, 28]\n"
          ]
        }
      ]
    },
    {
      "cell_type": "code",
      "source": [
        "l1 = [3, 6, 9, 12, 15, 18, 21]\n",
        "l2 = [4, 8, 12, 16, 20, 24, 28]\n",
        "print('Element at odd-index positions from list one: ')\n",
        "odd = []\n",
        "for x in l1:\n",
        "  odd = l1[1::2]\n",
        "print('\\n',odd,'\\n')\n",
        "\n",
        "even = []\n",
        "print('Element at even-index positions from list two: ')\n",
        "\n",
        "for i in l2:\n",
        "  even =l2[0::2]\n",
        "print('\\n',even,'\\n')\n",
        "\n",
        "print('Printing Final third list:')\n",
        "l3 = odd + even\n",
        "print('\\n',l3,'\\n')"
      ],
      "metadata": {
        "colab": {
          "base_uri": "https://localhost:8080/"
        },
        "id": "BP4BLlYoQ7RV",
        "outputId": "3c32025c-0411-44b8-8660-dedb36a0bd3a"
      },
      "execution_count": 9,
      "outputs": [
        {
          "output_type": "stream",
          "name": "stdout",
          "text": [
            "Element at odd-index positions from list one: \n",
            "\n",
            " [6, 12, 18] \n",
            "\n",
            "Element at even-index positions from list two: \n",
            "\n",
            " [4, 12, 20, 28] \n",
            "\n",
            "Printing Final third list:\n",
            "\n",
            " [6, 12, 18, 4, 12, 20, 28] \n",
            "\n"
          ]
        }
      ]
    },
    {
      "cell_type": "code",
      "source": [
        "list1 = [54, 44, 27, 79, 91, 41]\n",
        "list1.remove(44)\n",
        "list1\n",
        "list1.pop(4)\n",
        "list1\n",
        "list1.insert(3,1)\n",
        "list1\n",
        "list1.append(8)\n",
        "list1\n",
        "\n",
        "\n",
        "\n",
        "\n",
        "\n"
      ],
      "metadata": {
        "colab": {
          "base_uri": "https://localhost:8080/"
        },
        "id": "OoHyzDLvIDVP",
        "outputId": "1f8bc283-e72c-459b-dd27-11304b894f31"
      },
      "execution_count": 13,
      "outputs": [
        {
          "output_type": "execute_result",
          "data": {
            "text/plain": [
              "[54, 27, 79, 1, 91, 8]"
            ]
          },
          "metadata": {},
          "execution_count": 13
        }
      ]
    },
    {
      "cell_type": "code",
      "source": [
        "sample_list = [11, 45, 8, 23, 14, 12, 78, 45, 89]\n",
        "length = len(sample_list)\n",
        "chunk_size = int(length / 3)\n",
        "print (chunk_size)\n",
        "start = 0\n",
        "end = chunk_size\n",
        "\n",
        "for i in range(3):#0,1,2\n",
        "    # get indexes\n",
        "    indexes = slice(start, end)\n",
        "    list_chunk = sample_list[indexes]\n",
        "    print (\"Chunk \", i, list_chunk)\n",
        "    start = end\n",
        "    end += chunk_size\n",
        "    print(list(reversed(list_chunk)))\n",
        "   "
      ],
      "metadata": {
        "colab": {
          "base_uri": "https://localhost:8080/"
        },
        "id": "xo7J-9XSQahS",
        "outputId": "e1b37f3c-81ab-4166-b30c-d09d77b5dcac"
      },
      "execution_count": 36,
      "outputs": [
        {
          "output_type": "stream",
          "name": "stdout",
          "text": [
            "3\n",
            "Chunk  0 [11, 45, 8]\n",
            "[8, 45, 11]\n",
            "Chunk  1 [23, 14, 12]\n",
            "[12, 14, 23]\n",
            "Chunk  2 [78, 45, 89]\n",
            "[89, 45, 78]\n"
          ]
        }
      ]
    },
    {
      "cell_type": "code",
      "source": [
        "sample_list = [11, 45, 8, 23, 14, 12, 78, 45, 89]\n",
        "length = len(sample_list)\n",
        "chunk_size = int(length / 3)\n",
        "print (chunk_size)\n",
        "start = 0\n",
        "end = chunk_size\n",
        "\n",
        "for i in range(3):#0,1,2\n",
        "    # get indexes\n",
        "    indexes = slice(0,3)\n",
        "    print(indexes)\n",
        "    list_chunk = sample_list[indexes]\n",
        "    print (\"Chunk \", i, list_chunk)\n",
        "\n",
        "\n",
        "\n"
      ],
      "metadata": {
        "colab": {
          "base_uri": "https://localhost:8080/"
        },
        "id": "dlkDSNfbVZZG",
        "outputId": "5d9ee728-0ef1-4a4a-ab0a-6271e4c48624"
      },
      "execution_count": 48,
      "outputs": [
        {
          "output_type": "stream",
          "name": "stdout",
          "text": [
            "3\n",
            "slice(0, 2, None)\n",
            "Chunk  0 [11, 45]\n",
            "slice(0, 2, None)\n",
            "Chunk  1 [11, 45]\n",
            "slice(0, 2, None)\n",
            "Chunk  2 [11, 45]\n"
          ]
        }
      ]
    },
    {
      "cell_type": "code",
      "source": [
        "sample_list = [11, 45, 8, 23, 14, 12, 78, 45, 89]\n",
        "list_chunk = sample_list[slice(6,9)]\n",
        "print(list_chunk)\n"
      ],
      "metadata": {
        "colab": {
          "base_uri": "https://localhost:8080/"
        },
        "id": "6Vy7QHQUveB_",
        "outputId": "1a143695-a62a-453f-bc0f-b6e41df4fedb"
      },
      "execution_count": 57,
      "outputs": [
        {
          "output_type": "stream",
          "name": "stdout",
          "text": [
            "[78, 45, 89]\n"
          ]
        }
      ]
    }
  ],
  "metadata": {
    "colab": {
      "collapsed_sections": [],
      "name": "Colaboratory'ye Hoş Geldiniz",
      "provenance": [],
      "include_colab_link": true
    },
    "kernelspec": {
      "display_name": "Python 3",
      "name": "python3"
    }
  },
  "nbformat": 4,
  "nbformat_minor": 0
}